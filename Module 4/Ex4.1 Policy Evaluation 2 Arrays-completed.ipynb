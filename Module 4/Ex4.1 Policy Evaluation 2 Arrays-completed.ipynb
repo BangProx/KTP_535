{
 "cells": [
  {
   "cell_type": "markdown",
   "metadata": {},
   "source": [
    "# DAT257x: Reinforcement Learning Explained\n",
    "\n",
    "## Lab 4: Dynamic Programming\n",
    "\n",
    "### Exercise 4.1 Policy Evaluation with 2 Arrays"
   ]
  },
  {
   "cell_type": "markdown",
   "metadata": {},
   "source": [
    "Policy Evaluation calculates the value function for a policy, given the policy and the full definition of the associated Markov Decision Process.  The full definition of an MDP is the set of states, the set of available actions for each state, the set of rewards, the discount factor, and the state/reward transition function."
   ]
  },
  {
   "cell_type": "code",
   "execution_count": 3,
   "metadata": {},
   "outputs": [],
   "source": [
    "import test_dp               # required for testing and grading your code\n",
    "import gridworld_mdp as gw   # defines the MDP for a 4x4 gridworld"
   ]
  },
  {
   "cell_type": "markdown",
   "metadata": {},
   "source": [
    "The gridworld MDP defines the probability of state transitions for our 4x4 gridworld using a \"get_transitions()\" function.  \n",
    "\n",
    "Let's try it out now, with state=2 and all defined actions."
   ]
  },
  {
   "cell_type": "code",
   "execution_count": 4,
   "metadata": {},
   "outputs": [
    {
     "name": "stdout",
     "output_type": "stream",
     "text": [
      "transition(2, up): next_state= 2 , reward= -1 , probability= 1\n",
      "transition(2, down): next_state= 6 , reward= -1 , probability= 1\n",
      "transition(2, left): next_state= 1 , reward= -1 , probability= 1\n",
      "transition(2, right): next_state= 3 , reward= -1 , probability= 1\n"
     ]
    }
   ],
   "source": [
    "# try out the gw.get_transitions(state, action) function\n",
    "\n",
    "state = 2\n",
    "actions = gw.get_available_actions(state)\n",
    "\n",
    "for action in actions:\n",
    "    transitions = gw.get_transitions(state=state, action=action)\n",
    "\n",
    "    # examine each return transition (only 1 per call for this MDP)\n",
    "    for (trans) in transitions:\n",
    "        next_state, reward, probability = trans    # unpack tuple\n",
    "        print(\"transition(\"+ str(state) + \", \" + action + \"):\", \"next_state=\", next_state, \", reward=\", reward, \", probability=\", probability)"
   ]
  },
  {
   "cell_type": "code",
   "execution_count": 13,
   "metadata": {},
   "outputs": [
    {
     "data": {
      "text/plain": [
       "['up', 'down', 'left', 'right']"
      ]
     },
     "execution_count": 13,
     "metadata": {},
     "output_type": "execute_result"
    }
   ],
   "source": [
    "actions"
   ]
  },
  {
   "cell_type": "markdown",
   "metadata": {},
   "source": [
    "**Implement the algorithm for Iterative Policy Evaluation using the 2 array approach**.  In the 2 array approach, one array holds the value estimates for each state computed on the previous iteration, and one array holds the value estimates for the states computing in the current iteration.\n",
    "\n",
    "A empty function **policy_eval_two_arrays** is provided below; implement the body of the function to correctly calculate the value of the policy using the 2 array approach.  The function defines 5 parameters - a definition of each parameter is given in the comment block for the function.  For sample parameter values, see the calling code in the cell following the function."
   ]
  },
  {
   "cell_type": "code",
   "execution_count": 1,
   "metadata": {},
   "outputs": [],
   "source": [
    "import numpy as np\n",
    "\n",
    "def policy_eval_two_arrays(state_count, gamma, theta, get_policy, get_transitions):\n",
    "    \"\"\"\n",
    "    This function uses the two-array approach to evaluate the specified policy for the specified MDP:\n",
    "    \n",
    "    'state_count' is the total number of states in the MDP. States are represented as 0-relative numbers.\n",
    "    \n",
    "    'gamma' is the MDP discount factor for rewards.\n",
    "    \n",
    "    'theta' is the small number threshold to signal convergence of the value function (see Iterative Policy Evaluation algorithm).\n",
    "    \n",
    "    'get_policy' is the stochastic policy function - it takes a state parameter and returns list of tuples, \n",
    "        where each tuple is of the form: (action, probability).  It represents the policy being evaluated.\n",
    "        \n",
    "    'get_transitions' is the state/reward transiton function.  It accepts two parameters, state and action, and returns\n",
    "        a list of tuples, where each tuple is of the form: (next_state, reward, probabiliity).  \n",
    "        \n",
    "    \"\"\"\n",
    "    V = state_count*[0]\n",
    "    V_prior = state_count*[0]\n",
    "    #\n",
    "    # INSERT CODE HERE to evaluate the policy using the 2 array approach \n",
    "    # \n",
    "    #delta = 1\n",
    "    cycles = 0\n",
    "   \n",
    "    #while (delta >= theta):\n",
    "    #while cycles < 6:\n",
    "    while True:\n",
    "        delta = 0\n",
    "        #diff = state_count*[0]\n",
    "        cycles += 1\n",
    "        V = state_count*[0]\n",
    "        #print('V_prior =', V_prior)\n",
    "        #print('V =', V)\n",
    "        for s in range(state_count):\n",
    "            #print('s =', s)\n",
    "            policy = dict(get_policy(s))\n",
    "            actions = gw.get_available_actions(s)\n",
    "            V_s = 0\n",
    "            for a in actions:\n",
    "                transitions = gw.get_transitions(state = s, action = a)\n",
    "                for (trans) in transitions:\n",
    "                    next_state, reward, probability = trans    # unpack tuple\n",
    "                    #print(a, next_state, reward, probability)\n",
    "                    V_s += policy[a] * probability * (reward + gamma * V_prior[next_state])\n",
    "                    #print(\"V_s \",s, a, '=', V_s)\n",
    "            #print('V_s fin =', V_s)\n",
    "\n",
    "            #diff = abs(V[s] - V_prior[s])\n",
    "            #print('diff =', abs(V_s - V_prior[s]))\n",
    "            delta = max(delta, abs(V_s - V_prior[s]))\n",
    "            V[s]=V_s\n",
    "            #print('V[',s,']=',V[s])\n",
    "            #print('delta =', delta, 'theta =', theta)\n",
    "            #if delta < theta:\n",
    "                #break\n",
    "                \n",
    "        V_prior = V    \n",
    "            \n",
    "        if delta < theta:\n",
    "            #print('s exit =', s)\n",
    "            break\n",
    "\n",
    "        \n",
    "\n",
    "        #delta = max(map(abs, diff))\n",
    "\n",
    "        #print(cycles, delta)\n",
    "    \n",
    "    return V"
   ]
  },
  {
   "cell_type": "markdown",
   "metadata": {},
   "source": [
    "First, test our function using the MDP defined by gw.* functions."
   ]
  },
  {
   "cell_type": "code",
   "execution_count": 2,
   "metadata": {
    "scrolled": true
   },
   "outputs": [
    {
     "ename": "NameError",
     "evalue": "name 'gw' is not defined",
     "output_type": "error",
     "traceback": [
      "\u001b[0;31m---------------------------------------------------------------------------\u001b[0m",
      "\u001b[0;31mNameError\u001b[0m                                 Traceback (most recent call last)",
      "\u001b[0;32m<ipython-input-2-fe97f894278e>\u001b[0m in \u001b[0;36m<module>\u001b[0;34m()\u001b[0m\n\u001b[1;32m      4\u001b[0m     \u001b[0;32mreturn\u001b[0m \u001b[0mpolicy\u001b[0m\u001b[0;34m\u001b[0m\u001b[0m\n\u001b[1;32m      5\u001b[0m \u001b[0;34m\u001b[0m\u001b[0m\n\u001b[0;32m----> 6\u001b[0;31m \u001b[0mn_states\u001b[0m \u001b[0;34m=\u001b[0m \u001b[0mgw\u001b[0m\u001b[0;34m.\u001b[0m\u001b[0mget_state_count\u001b[0m\u001b[0;34m(\u001b[0m\u001b[0;34m)\u001b[0m\u001b[0;34m\u001b[0m\u001b[0m\n\u001b[0m\u001b[1;32m      7\u001b[0m \u001b[0;34m\u001b[0m\u001b[0m\n\u001b[1;32m      8\u001b[0m \u001b[0;31m# test our function\u001b[0m\u001b[0;34m\u001b[0m\u001b[0;34m\u001b[0m\u001b[0m\n",
      "\u001b[0;31mNameError\u001b[0m: name 'gw' is not defined"
     ]
    }
   ],
   "source": [
    "def get_equal_policy(state):\n",
    "    # build a simple policy where all 4 actions have the same probability, ignoring the specified state\n",
    "    policy = ( (\"up\", .25), (\"right\", .25), (\"down\", .25), (\"left\", .25))\n",
    "    return policy\n",
    "\n",
    "n_states = gw.get_state_count()\n",
    "\n",
    "# test our function\n",
    "values = policy_eval_two_arrays(state_count=n_states, gamma=.9, theta=.001, get_policy=get_equal_policy, \\\n",
    "    get_transitions=gw.get_transitions)\n",
    "\n",
    "print(\"Values=\", values)"
   ]
  },
  {
   "cell_type": "markdown",
   "metadata": {},
   "source": [
    "**Expected output from running above cell:**\n",
    "\n",
    "`\n",
    "Values= [0.0, -5.274709263277986, -7.123800104889248, -7.64536148969558, -5.274709263277987, -6.602238720082915, -7.17604178238719, -7.1238001048892485, -7.1238001048892485, -7.176041782387191, -6.602238720082915, -5.274709263277986, -7.645361489695581, -7.1238001048892485, -5.274709263277986]\n",
    "`"
   ]
  },
  {
   "cell_type": "code",
   "execution_count": 106,
   "metadata": {},
   "outputs": [
    {
     "data": {
      "text/plain": [
       "array([[ 0.        , -5.27470926, -7.1238001 , -7.64536149],\n",
       "       [-5.27470926, -6.60223872, -7.17604178, -7.1238001 ],\n",
       "       [-7.1238001 , -7.17604178, -6.60223872, -5.27470926],\n",
       "       [-7.64536149, -7.1238001 , -5.27470926,  0.        ]])"
      ]
     },
     "execution_count": 106,
     "metadata": {},
     "output_type": "execute_result"
    }
   ],
   "source": [
    "import numpy as np\n",
    "a = np.append(values, 0)\n",
    "np.reshape(a, (4,4))"
   ]
  },
  {
   "cell_type": "code",
   "execution_count": null,
   "metadata": {},
   "outputs": [],
   "source": []
  },
  {
   "cell_type": "markdown",
   "metadata": {},
   "source": [
    "Now, test our function using the test_dp helper.  The helper also uses the gw MDP, but with a different gamma value.\n",
    "If our function passes all tests, a passcode will be printed."
   ]
  },
  {
   "cell_type": "code",
   "execution_count": 107,
   "metadata": {},
   "outputs": [
    {
     "name": "stdout",
     "output_type": "stream",
     "text": [
      "\n",
      "Testing: Policy Evaluation (two-arrays)\n",
      "passed test: return value is list\n",
      "passed test: length of list = 15\n",
      "passed test: values of list elements\n",
      "PASSED: Policy Evaluation (two-arrays) passcode = 9986-145\n"
     ]
    }
   ],
   "source": [
    "# test our function using the test_db helper\n",
    "test_dp.policy_eval_two_arrays_test( policy_eval_two_arrays ) "
   ]
  },
  {
   "cell_type": "code",
   "execution_count": null,
   "metadata": {},
   "outputs": [],
   "source": []
  }
 ],
 "metadata": {
  "kernelspec": {
   "display_name": "Python 3",
   "language": "python",
   "name": "python3"
  },
  "language_info": {
   "codemirror_mode": {
    "name": "ipython",
    "version": 3
   },
   "file_extension": ".py",
   "mimetype": "text/x-python",
   "name": "python",
   "nbconvert_exporter": "python",
   "pygments_lexer": "ipython3",
   "version": "3.5.4"
  }
 },
 "nbformat": 4,
 "nbformat_minor": 2
}
